{
 "cells": [
  {
   "cell_type": "code",
   "execution_count": 2,
   "metadata": {},
   "outputs": [],
   "source": [
    "#Importing the necessay libraries\n",
    "import pandas as pd"
   ]
  },
  {
   "cell_type": "markdown",
   "metadata": {},
   "source": [
    "### Loading the data"
   ]
  },
  {
   "cell_type": "code",
   "execution_count": 4,
   "metadata": {},
   "outputs": [],
   "source": [
    "salesby_maker=pd.read_csv(\"/workspaces/EV_launch_Analysis/data/Data inputs/datasets/electric_vehicle_sales_by_makers.csv\")\n",
    "salesby_state =pd.read_csv(\"/workspaces/EV_launch_Analysis/data/Data inputs/datasets/electric_vehicle_sales_by_state.csv\")\n",
    "dim_data = pd.read_csv(\"/workspaces/EV_launch_Analysis/data/Data inputs/datasets/dim_date.csv\")"
   ]
  }
 ],
 "metadata": {
  "kernelspec": {
   "display_name": "Python 3",
   "language": "python",
   "name": "python3"
  },
  "language_info": {
   "codemirror_mode": {
    "name": "ipython",
    "version": 3
   },
   "file_extension": ".py",
   "mimetype": "text/x-python",
   "name": "python",
   "nbconvert_exporter": "python",
   "pygments_lexer": "ipython3",
   "version": "3.10.13"
  }
 },
 "nbformat": 4,
 "nbformat_minor": 2
}
